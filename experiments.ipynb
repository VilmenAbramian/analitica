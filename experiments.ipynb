{
 "cells": [
  {
   "metadata": {},
   "cell_type": "markdown",
   "source": [
    "# Постановка задачи\n",
    "Пусть есть n шариков и m урн.\n",
    "\n",
    "Выбор урны для каждого шарика - с одинаковой вероятностью, независимо от других шариков.\n",
    "\n",
    "Для произвольных чисел k, l >= 0, k + l <= m, найти вероятность, что ровно k урн будут пустыми, l - содержать ровно по одному шарику, m-k-l - 2 и больше шариков."
   ],
   "id": "cded92d7ad830b95"
  },
  {
   "cell_type": "code",
   "id": "initial_id",
   "metadata": {
    "collapsed": true,
    "ExecuteTime": {
     "end_time": "2025-02-14T14:10:52.302489Z",
     "start_time": "2025-02-14T14:10:52.260704Z"
    }
   },
   "source": [
    "import numpy as np\n",
    "\n",
    "from analitica import calculate_k_probs, calculate_l_probs\n",
    "from monte_carlo import monte_carlo_simulation"
   ],
   "outputs": [],
   "execution_count": 1
  },
  {
   "metadata": {
    "ExecuteTime": {
     "end_time": "2025-02-14T14:10:53.535146Z",
     "start_time": "2025-02-14T14:10:53.532656Z"
    }
   },
   "cell_type": "code",
   "source": [
    "URNS_NUMBER = 10\n",
    "BALLS_NUMBER = 5\n",
    "\n",
    "NUM_TRIALS = 10_000"
   ],
   "id": "66d1ccb5e1d50f7",
   "outputs": [],
   "execution_count": 2
  },
  {
   "metadata": {},
   "cell_type": "markdown",
   "source": [
    "# Аналитическое решение\n",
    "Пусть $P_k$ - вероятность того, что урна будет пустой и\n",
    "\n",
    "$P_l$ - вероятность того, что в урне будет 1 шарик.\n",
    "\n",
    "Тогда в соответствии с формулой на листике Андрея:\n",
    "\n",
    "$P_k = P_k(k,n,m)$\n",
    "\n",
    "$P_l = P_l(k,l,n,m) = P_k(k,n,m) * P(l,n-(m-k),m-k)$"
   ],
   "id": "d5111f1af3cab115"
  },
  {
   "metadata": {},
   "cell_type": "markdown",
   "source": "Если $P_k=\\frac{C^k_m*C^n_{m-k}}{m^n}$, то тогда $P_l=\\frac{C^k_m*C^n_{m-k}}{m^n}*\\frac{C^l_{m-k}*C^{n-(m-k)}_{m-k-l}}{(m-k)^{n-(m-k)}}$",
   "id": "e252c0747487f19f"
  },
  {
   "metadata": {},
   "cell_type": "markdown",
   "source": "Для каждого вычисления нам дано колчисество урн и количество шариков. При этом, как видно из формул, вероятности также зависят от переменных k и l. Они нам неизвестны. Для решения этой проблемы, мы перебираем все возможные варианты этих переменных. Для каждого k мы вычисляем своём значение $P_{ki}$, после чего находим математеческое ожиданием всех $P_{ki}$ и получаем $P_k$. Далее для $P_l$ нужно для каждого l найти $P_{kli}$, где k - фиксировано. После вычисления математического ожидания для всех $P_{kli}$ мы получаем $P_{ki}$. Далее находим мат.ожидание всех $P_{ki}$ и получаем, наконец, результирующую вероятность $P_{l}$",
   "id": "58bca3b3b22714e3"
  },
  {
   "metadata": {},
   "cell_type": "markdown",
   "source": "# Аналитический расчёт",
   "id": "b4bcb13d9129b415"
  },
  {
   "metadata": {
    "ExecuteTime": {
     "end_time": "2025-02-14T14:10:56.851446Z",
     "start_time": "2025-02-14T14:10:56.846982Z"
    }
   },
   "cell_type": "code",
   "source": [
    "probs_k = calculate_k_probs(URNS_NUMBER, BALLS_NUMBER) # Вероятности того, что урна будет пуста\n",
    "probs_l = calculate_l_probs(URNS_NUMBER, BALLS_NUMBER) # Вероятности того, что в урне будет 1 шарик\n",
    "probs_l = [np.mean(pkli) for pkli in probs_l]\n",
    "print('Вероятности, рассчитаные методом комбинаторики.')\n",
    "print(f'- Урна пустая: {np.mean(probs_k):.6f}')\n",
    "print(f' - В урне ровно 1 шарик: {np.mean(probs_l):.6f}')"
   ],
   "id": "e4ca4cb1f2d32631",
   "outputs": [
    {
     "name": "stdout",
     "output_type": "stream",
     "text": [
      "Вероятности, рассчитаные методом комбинаторики.\n",
      "- Урна пустая: 0.007380\n",
      " - В урне ровно 1 шарик: 0.011642\n"
     ]
    }
   ],
   "execution_count": 3
  },
  {
   "metadata": {},
   "cell_type": "markdown",
   "source": "# Валидация методом Монте-Карло",
   "id": "56b8dd45c0bd652f"
  },
  {
   "metadata": {
    "ExecuteTime": {
     "end_time": "2025-02-14T14:10:58.336880Z",
     "start_time": "2025-02-14T14:10:58.314407Z"
    }
   },
   "cell_type": "code",
   "source": [
    "results = monte_carlo_simulation(NUM_TRIALS, BALLS_NUMBER, URNS_NUMBER)\n",
    "print('Вероятности, рассчитаные методом Монте-Карло.')\n",
    "print(f\" - Урна пустая: {results[3]:.6f}\")\n",
    "print(f\" - В урне ровно 1 шарик: {results[4]:.6f}\")\n",
    "print(f\" - В урне 2 и более шарика: {results[5]:.6f}\")"
   ],
   "id": "9a8edba2af98ce8f",
   "outputs": [
    {
     "name": "stdout",
     "output_type": "stream",
     "text": [
      "Вероятности, рассчитаные методом Монте-Карло.\n",
      " - Урна пустая: 0.590320\n",
      " - В урне ровно 1 шарик: 0.328580\n",
      " - В урне 2 и более шарика: 0.081100\n"
     ]
    }
   ],
   "execution_count": 4
  },
  {
   "metadata": {},
   "cell_type": "markdown",
   "source": "# Вопросы",
   "id": "6d0a4b885701337f"
  },
  {
   "metadata": {},
   "cell_type": "markdown",
   "source": [
    "1) Почему $P_l = P_l(k,l,n,m) = P_k(k,n,m) * P(l,n-(m-k),m-k)$?\n",
    "Особенно непонятно, почему для $P_l$ количество шариков не n, а n-(m-k). Во-первых, количество шариков осталось неизменным (так как первую вероятность мы считали для пустых урн), во-вторых, n - это количество шариков, а (m-k) - это количество непустых урн, то есть мы из мух вычитаем котлеты.\n",
    "\n",
    "2) Правильная ли формула для комбинаторного вычисления $P_k$ и $P_l$? Рассуждения по их получению есть в фотографиях.\n",
    "\n",
    "3) Правильна ли логика по получению значений вероятности с помощью математического ожидания?"
   ],
   "id": "4e6521c124399772"
  },
  {
   "metadata": {
    "ExecuteTime": {
     "end_time": "2025-02-14T09:04:01.206818Z",
     "start_time": "2025-02-14T09:04:01.204604Z"
    }
   },
   "cell_type": "code",
   "source": "",
   "id": "8f1a0f59af7f57e2",
   "outputs": [],
   "execution_count": null
  }
 ],
 "metadata": {
  "kernelspec": {
   "display_name": "Python 3",
   "language": "python",
   "name": "python3"
  },
  "language_info": {
   "codemirror_mode": {
    "name": "ipython",
    "version": 2
   },
   "file_extension": ".py",
   "mimetype": "text/x-python",
   "name": "python",
   "nbconvert_exporter": "python",
   "pygments_lexer": "ipython2",
   "version": "2.7.6"
  }
 },
 "nbformat": 4,
 "nbformat_minor": 5
}
